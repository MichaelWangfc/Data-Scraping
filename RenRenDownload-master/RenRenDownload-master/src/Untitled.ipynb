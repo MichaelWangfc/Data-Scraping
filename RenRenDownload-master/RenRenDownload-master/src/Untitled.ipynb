{
 "cells": [
  {
   "cell_type": "code",
   "execution_count": 1,
   "metadata": {
    "collapsed": true
   },
   "outputs": [],
   "source": [
    "# -*- encoding:utf-8 -*-\n",
    "\n",
    "import sys\n",
    "import os\n",
    "import re\n",
    "import urllib\n",
    "import urllib2\n",
    "import cookielib\n",
    "import webbrowser\n",
    "import config\n",
    "import Common\n",
    "\n",
    "class RenRenSpider:\n",
    "    '''\n",
    "    Download your info from RenRen.com, include:\n",
    "    1. personal information\n",
    "    2. photos albums\n",
    "    3. status\n",
    "    4. blogs\n",
    "    5. friends information\n",
    "    6. the gossip\n",
    "    7. comments\n",
    "    8. save your own and all your friends personal info into a database(mysql)  \n",
    "    '''\n",
    "    def __init__(self):\n",
    "        self.username,self.password = config.EMAIL,config.PASSWORD\n",
    "        self.cookie = cookielib.LWPCookieJar()\n",
    "        self.cookie.load(config.cookieFile, ignore_discard=True, ignore_expires=True)\n",
    "        self.opener = urllib2.build_opener( urllib2.HTTPCookieProcessor(self.cookie) )\n",
    "        urllib2.install_opener(self.opener)\n",
    "    \n",
    "    def login(self):\n",
    "        url = urllib2.urlopen('http://www.renren.com').geturl()\n",
    "        print url\n",
    "        if re.match('http://www.renren.com/[\\d]{9}', url):\n",
    "            self.userID = url.split('/')[3]\n",
    "            print 'Login Successfully'\n",
    "            return True\n",
    "        else:\n",
    "            print 'cookie file broke'\n",
    "            \n",
    "        data = {\n",
    "                'email' : self.username,\n",
    "                'password' : self.password,\n",
    "                'origURL' : 'http://www.renren.com/home',\n",
    "                'icode' : ''\n",
    "                }\n",
    "        isLogin = False\n",
    "        failCodePattern = re.compile('&failCode=(\\d+)')\n",
    "        \n",
    "        print 'Login...'"
   ]
  },
  {
   "cell_type": "code",
   "execution_count": null,
   "metadata": {
    "collapsed": true
   },
   "outputs": [],
   "source": []
  },
  {
   "cell_type": "code",
   "execution_count": 3,
   "metadata": {
    "collapsed": false
   },
   "outputs": [
    {
     "ename": "SyntaxError",
     "evalue": "can't assign to literal (<ipython-input-3-7987b4984707>, line 1)",
     "output_type": "error",
     "traceback": [
      "\u001b[0;36m  File \u001b[0;32m\"<ipython-input-3-7987b4984707>\"\u001b[0;36m, line \u001b[0;32m1\u001b[0m\n\u001b[0;31m    username= 'gfkdwangfc@163.com',password = 'wang@2008204'\u001b[0m\n\u001b[0;31mSyntaxError\u001b[0m\u001b[0;31m:\u001b[0m can't assign to literal\n"
     ]
    }
   ],
   "source": [
    "username= 'gfkdwangfc@163.com',password = 'wang@2008204'\n",
    "RenRenSpider.login(username, password)"
   ]
  },
  {
   "cell_type": "code",
   "execution_count": null,
   "metadata": {
    "collapsed": true
   },
   "outputs": [],
   "source": [
    "\n",
    "        while not isLogin:\n",
    "            validation = self.opener.open(config.ICODEURL).read()\n",
    "            with open('icode.jpg','wb') as file:\n",
    "                file.write(validation)\n",
    "            icode = raw_input('please input validation code：')\n",
    "            data['icode'] = icode\n",
    "\n",
    "            request = urllib2.Request(config.LOGINURL, urllib.urlencode(data))\n",
    "            response = self.opener.open(request,timeout=20)\n",
    "                \n",
    "            url = response.geturl()\n",
    "            print url\n",
    "            failCode = failCodePattern.search(url)\n",
    "            if not failCode:\n",
    "                for item in self.cookie:\n",
    "                    if item.name == 'id':\n",
    "                        self.userID = item.value\n",
    "                        print 'Login Successfully'\n",
    "                        self.cookie.save(config.cookieFile,ignore_discard=True, ignore_expires=True)\n",
    "                        isLogin = True\n",
    "                        break\n",
    "            else:\n",
    "                failCode = failCode.group(1)\n",
    "                if failCode in config.FAILCODE.keys():\n",
    "                    print 'failCode=',failCode,config.FAILCODE[failCode]\n",
    "                    if failCode == '512':\n",
    "                        continue\n",
    "                else:\n",
    "                    print \"unkown error\"\n",
    "                return False\n",
    "        return True\n",
    "\n",
    "    def getRawContent(self,url,data=None):\n",
    "        try:\n",
    "            page = self.opener.open(url,data,timeout=20)\n",
    "        except Exception, e: \n",
    "            print 'Fail to login:', e.message\n",
    "            return\n",
    "        return page \n",
    "    \n",
    "    def getContent(self,url,data=None):\n",
    "        return self.getRawContent(url,data).read()   \n",
    "    \n",
    "    def getUserID(self):\n",
    "        return self.userID\n",
    "        \n",
    "if __name__ == '__main__':\n",
    "    lonelyMan = RenRenSpider()\n",
    "    lonelyMan.login()\n"
   ]
  }
 ],
 "metadata": {
  "kernelspec": {
   "display_name": "Python 2",
   "language": "python",
   "name": "python2"
  },
  "language_info": {
   "codemirror_mode": {
    "name": "ipython",
    "version": 2
   },
   "file_extension": ".py",
   "mimetype": "text/x-python",
   "name": "python",
   "nbconvert_exporter": "python",
   "pygments_lexer": "ipython2",
   "version": "2.7.12"
  }
 },
 "nbformat": 4,
 "nbformat_minor": 1
}
