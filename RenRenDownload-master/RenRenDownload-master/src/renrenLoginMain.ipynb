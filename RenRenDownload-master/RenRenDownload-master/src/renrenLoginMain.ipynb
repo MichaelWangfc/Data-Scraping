{
 "cells": [
  {
   "cell_type": "code",
   "execution_count": 3,
   "metadata": {
    "collapsed": false
   },
   "outputs": [],
   "source": [
    "# -*- coding:utf-8 -*-\n",
    "'''\n",
    "    author : threegirl2014\n",
    "'''\n",
    "from Spider import RenRenSpider\n",
    "from PersonalInfo import PersonalInfo\n",
    "from FriendList import FriendList\n",
    "from Status import Status\n",
    "from Gossip import Gossip\n",
    "from Comment import Comment\n",
    "from BlogList import BlogList\n",
    "from Blog import Blog\n",
    "from AlbumList import AlbumList\n",
    "from Album import Album\n",
    "#from RepoMysql import RepoMysql\n",
    "import config\n",
    "import Common\n",
    "import datetime"
   ]
  },
  {
   "cell_type": "code",
   "execution_count": null,
   "metadata": {
    "collapsed": true
   },
   "outputs": [],
   "source": [
    "def checkPaths(ownerID):\n",
    "    Common.checkPath(config.PATH)\n",
    "    Common.checkPath(config.PATH + '/' + ownerID)\n",
    "    Common.checkPath(config.PATH + '/' + ownerID + '/' + config.BLOGSPATH)\n",
    "    Common.checkPath(config.PATH + '/' + ownerID + '/' + config.ALBUMLISTPATH)\n",
    "                   \n",
    "def Main():\n",
    "    d1 = datetime.datetime.now()\n",
    "    \n",
    "    lonelyMan = RenRenSpider()\n",
    "    lonelyMan.login()\n",
    "    userID = lonelyMan.getUserID()\n",
    "    \n",
    "    checkPaths(userID)\n",
    "    checkPaths(ownerID=config.ownerID)\n",
    " \n",
    "    albumList = AlbumList(userID,lonelyMan,ownerID=config.ownerID)\n",
    "    albumList.work()\n",
    "       \n",
    "    status = Status(userID,lonelyMan,config.ownerID)\n",
    "    status.work()\n",
    " \n",
    "    bloglist = BlogList(userID,lonelyMan,config.ownerID)\n",
    "    bloglist.work()\n",
    "   \n",
    "    gossip = Gossip(userID,lonelyMan,config.ownerID)\n",
    "    gossip.work()\n",
    "        \n",
    "    repo = RepoMysql(userID,lonelyMan)\n",
    "    repo.work()\n",
    "    \n",
    "    d2 = datetime.datetime.now()\n",
    "    print 'all have been done, time: ', d2 - d1\n",
    "    \n",
    "Main()"
   ]
  }
 ],
 "metadata": {
  "anaconda-cloud": {},
  "kernelspec": {
   "display_name": "Python 2",
   "language": "python",
   "name": "python2"
  },
  "language_info": {
   "codemirror_mode": {
    "name": "ipython",
    "version": 2
   },
   "file_extension": ".py",
   "mimetype": "text/x-python",
   "name": "python",
   "nbconvert_exporter": "python",
   "pygments_lexer": "ipython2",
   "version": "2.7.12"
  }
 },
 "nbformat": 4,
 "nbformat_minor": 1
}
